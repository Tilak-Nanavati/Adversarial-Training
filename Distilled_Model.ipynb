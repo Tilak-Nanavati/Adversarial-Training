{
  "cells": [
    {
      "cell_type": "markdown",
      "source": [
        "## **Run before execution**"
      ],
      "metadata": {
        "id": "L7a4jB-TrtVa"
      }
    },
    {
      "cell_type": "code",
      "source": [
        "from google.colab import drive\n",
        "drive.mount('/content/drive')"
      ],
      "metadata": {
        "colab": {
          "base_uri": "https://localhost:8080/"
        },
        "id": "O9G7hyL37RHu",
        "outputId": "b407af9e-c372-44cb-9189-b06267f377cc"
      },
      "execution_count": null,
      "outputs": [
        {
          "output_type": "stream",
          "name": "stdout",
          "text": [
            "Mounted at /content/drive\n"
          ]
        }
      ]
    },
    {
      "cell_type": "code",
      "execution_count": null,
      "metadata": {
        "id": "7GX21l5AdMTV"
      },
      "outputs": [],
      "source": [
        "import os\n",
        "import cv2\n",
        "import shutil\n",
        "import pickle\n",
        "from PIL import Image\n",
        "import numpy as np\n",
        "import pandas as pd\n",
        "from tqdm import tqdm\n",
        "import keras.backend as K\n",
        "import tensorflow as tf\n",
        "from tensorflow import keras\n",
        "import matplotlib.pyplot as plt\n",
        "from google.colab.patches import cv2_imshow\n",
        "from tensorflow.keras.utils import to_categorical\n",
        "from tensorflow.keras.models import Model, load_model, Sequential\n",
        "from tensorflow.keras.preprocessing.image import ImageDataGenerator, load_img, img_to_array\n",
        "from tensorflow.keras.layers import Layer, Lambda, Dropout,Input, Add, Dense, Activation, ZeroPadding2D, BatchNormalization, Flatten, Conv2D, AveragePooling2D, MaxPooling2D"
      ]
    },
    {
      "cell_type": "markdown",
      "metadata": {
        "id": "q_ClNeuvcvBV"
      },
      "source": [
        "##**Load Model**##"
      ]
    },
    {
      "cell_type": "markdown",
      "source": [],
      "metadata": {
        "id": "ETV8P-m5roGi"
      }
    },
    {
      "cell_type": "code",
      "execution_count": null,
      "metadata": {
        "id": "VAsbiTFDcpsg",
        "colab": {
          "base_uri": "https://localhost:8080/"
        },
        "outputId": "a05985c9-f88d-4473-a2c3-95b574f21ee8"
      },
      "outputs": [
        {
          "output_type": "stream",
          "name": "stdout",
          "text": [
            "Downloading data from https://storage.googleapis.com/tensorflow/tf-keras-datasets/mnist.npz\n",
            "11490434/11490434 [==============================] - 0s 0us/step\n"
          ]
        }
      ],
      "source": [
        "(X_train,Y_train),(X_test,Y_test) = tf.keras.datasets.mnist.load_data()"
      ]
    },
    {
      "cell_type": "code",
      "execution_count": null,
      "metadata": {
        "id": "2Up4nse9dmbW"
      },
      "outputs": [],
      "source": [
        "mnist_model = tf.keras.models.load_model('/content/drive/MyDrive/Thesis/mnist_cnw.model')"
      ]
    },
    {
      "cell_type": "markdown",
      "source": [
        "### **Generate Probability Vector Predictions**\n",
        "\n",
        "---\n",
        "\n"
      ],
      "metadata": {
        "id": "zG72bkTG_5_7"
      }
    },
    {
      "cell_type": "markdown",
      "source": [
        "###**Fetching the adversarial images**###"
      ],
      "metadata": {
        "id": "Vcraf-hzSyBF"
      }
    },
    {
      "cell_type": "code",
      "source": [
        "img = cv2.imread(dir_path+\"/\"+images[108])\n",
        "print(images[101])\n",
        "img = cv2.cvtColor(img, cv2.COLOR_BGR2GRAY)\n",
        "cv2_imshow(img)\n",
        "img = img/255. - 0.5\n",
        "\n",
        "# add new axis and expand dimensions to flatten the image.\n",
        "img = img[...,np.newaxis]\n",
        "img = np.expand_dims(img,axis=0)\n",
        "\n",
        "mnist_model.predict(img)"
      ],
      "metadata": {
        "colab": {
          "base_uri": "https://localhost:8080/",
          "height": 132
        },
        "id": "lJZb6Gx2i6Uz",
        "outputId": "a869794d-5855-4c6f-874e-096f49bc2457"
      },
      "execution_count": null,
      "outputs": [
        {
          "output_type": "stream",
          "name": "stdout",
          "text": [
            "4_1_910.jpg\n"
          ]
        },
        {
          "output_type": "display_data",
          "data": {
            "text/plain": [
              "<PIL.Image.Image image mode=L size=28x28 at 0x7EFBEC060710>"
            ],
            "image/png": "[encoded data removed]"
          },
          "metadata": {}
        },
        {
          "output_type": "stream",
          "name": "stdout",
          "text": [
            "1/1 [==============================] - 0s 15ms/step\n"
          ]
        },
        {
          "output_type": "execute_result",
          "data": {
            "text/plain": [
              "array([[0.03392601, 0.056587  , 0.05392105, 0.15182365, 0.1302794 ,\n",
              "        0.20763342, 0.11809561, 0.03281816, 0.1538151 , 0.06110056]],\n",
              "      dtype=float32)"
            ]
          },
          "metadata": {},
          "execution_count": 38
        }
      ]
    },
    {
      "cell_type": "code",
      "source": [
        "prediction_vectors = []\n",
        "dir_path = \"/content/drive/MyDrive/Thesis/1000_advs\"\n",
        "images = os.listdir(dir_path)\n",
        "\n",
        "''' storing the images in x_adv '''\n",
        "for i in tqdm(range(len(images))):\n",
        "    img = cv2.imread(dir_path+\"/\"+images[i])\n",
        "    img = cv2.cvtColor(img, cv2.COLOR_BGR2GRAY)\n",
        "    img = img/255. - 0.5                               # normalization\n",
        "    img = img[...,np.newaxis]                          # add new axis and expand dimensions to flatten the image.\n",
        "    img = np.expand_dims(img,axis=0)\n",
        "    prediction_vectors.append(mnist_model.predict(img))"
      ],
      "metadata": {
        "id": "Vb4VR4HkSxY2"
      },
      "execution_count": null,
      "outputs": []
    },
    {
      "cell_type": "code",
      "source": [
        "pd.DataFrame(prediction_matrix)"
      ],
      "metadata": {
        "colab": {
          "base_uri": "https://localhost:8080/",
          "height": 661
        },
        "id": "uYvtageNuRxU",
        "outputId": "c7b9f37b-c587-4bab-812b-936f92d458bb"
      },
      "execution_count": null,
      "outputs": [
        {
          "output_type": "execute_result",
          "data": {
            "text/plain": [
              "                 0             1             2             3             4  \\\n",
              "0     5.240088e-01  5.239088e-01  2.231372e-02  3.594353e-02  2.955052e-02   \n",
              "1     8.853688e-06  9.984977e-01  1.305882e-04  1.183733e-03  1.670560e-05   \n",
              "2     3.427408e-02  5.453588e-01  5.454589e-01  6.816839e-02  4.018464e-02   \n",
              "3     9.476408e-06  5.605708e-03  2.161767e-04  9.931203e-01  6.183771e-06   \n",
              "4     1.851252e-02  5.036877e-01  5.067746e-02  4.920112e-02  5.037878e-01   \n",
              "...            ...           ...           ...           ...           ...   \n",
              "9995  4.057567e-02  8.899996e-02  6.567053e-02  1.405336e-01  4.305586e-02   \n",
              "9996  7.409497e-02  7.783128e-02  1.671375e-01  4.412063e-02  1.048051e-01   \n",
              "9997  1.450683e-02  4.183247e-02  3.295745e-02  5.268599e-02  3.485709e-02   \n",
              "9998  2.579621e-02  4.582928e-02  4.683148e-02  5.207474e-02  4.736396e-02   \n",
              "9999  9.082028e-09  1.041064e-09  1.113108e-08  7.826155e-08  7.696348e-08   \n",
              "\n",
              "                 5             6             7             8         9  \n",
              "0     8.769359e-02  1.971976e-02  4.563612e-02  5.519088e-02  0.074705  \n",
              "1     4.007395e-05  9.193034e-06  1.500803e-04  1.100547e-05  0.000052  \n",
              "2     2.107354e-02  2.144476e-02  5.025938e-02  4.664722e-02  0.035429  \n",
              "3     6.185657e-04  1.766687e-05  1.400354e-04  1.706434e-04  0.000195  \n",
              "4     4.590621e-02  4.162702e-02  3.952324e-02  7.256514e-02  0.054861  \n",
              "...            ...           ...           ...           ...       ...  \n",
              "9995  1.902527e-01  3.725423e-02  1.901527e-01  1.486572e-01  0.150044  \n",
              "9996  9.674668e-02  1.672376e-01  8.244628e-02  1.355636e-01  0.111163  \n",
              "9997  2.489455e-02  6.965457e-03  4.642922e-01  5.191123e-02  0.464192  \n",
              "9998  3.181322e-02  1.227444e-02  1.696627e-01  4.627000e-01  0.462600  \n",
              "9999  7.222754e-09  3.859530e-11  3.133081e-07  1.375493e-07  0.999999  \n",
              "\n",
              "[10000 rows x 10 columns]"
            ],
            "text/html": [
              "\n",
              "  <div id=\"df-27ba0188-efcf-4978-9b29-cff75a40f324\">\n",
              "    <div class=\"colab-df-container\">\n",
              "      <div>\n",
              "<style scoped>\n",
              "    .dataframe tbody tr th:only-of-type {\n",
              "        vertical-align: middle;\n",
              "    }\n",
              "\n",
              "    .dataframe tbody tr th {\n",
              "        vertical-align: top;\n",
              "    }\n",
              "\n",
              "    .dataframe thead th {\n",
              "        text-align: right;\n",
              "    }\n",
              "</style>\n",
              "<table border=\"1\" class=\"dataframe\">\n",
              "  <thead>\n",
              "    <tr style=\"text-align: right;\">\n",
              "      <th></th>\n",
              "      <th>0</th>\n",
              "      <th>1</th>\n",
              "      <th>2</th>\n",
              "      <th>3</th>\n",
              "      <th>4</th>\n",
              "      <th>5</th>\n",
              "      <th>6</th>\n",
              "      <th>7</th>\n",
              "      <th>8</th>\n",
              "      <th>9</th>\n",
              "    </tr>\n",
              "  </thead>\n",
              "  <tbody>\n",
              "    <tr>\n",
              "      <th>0</th>\n",
              "      <td>5.240088e-01</td>\n",
              "      <td>5.239088e-01</td>\n",
              "      <td>2.231372e-02</td>\n",
              "      <td>3.594353e-02</td>\n",
              "      <td>2.955052e-02</td>\n",
              "      <td>8.769359e-02</td>\n",
              "      <td>1.971976e-02</td>\n",
              "      <td>4.563612e-02</td>\n",
              "      <td>5.519088e-02</td>\n",
              "      <td>0.074705</td>\n",
              "    </tr>\n",
              "    <tr>\n",
              "      <th>1</th>\n",
              "      <td>8.853688e-06</td>\n",
              "      <td>9.984977e-01</td>\n",
              "      <td>1.305882e-04</td>\n",
              "      <td>1.183733e-03</td>\n",
              "      <td>1.670560e-05</td>\n",
              "      <td>4.007395e-05</td>\n",
              "      <td>9.193034e-06</td>\n",
              "      <td>1.500803e-04</td>\n",
              "      <td>1.100547e-05</td>\n",
              "      <td>0.000052</td>\n",
              "    </tr>\n",
              "    <tr>\n",
              "      <th>2</th>\n",
              "      <td>3.427408e-02</td>\n",
              "      <td>5.453588e-01</td>\n",
              "      <td>5.454589e-01</td>\n",
              "      <td>6.816839e-02</td>\n",
              "      <td>4.018464e-02</td>\n",
              "      <td>2.107354e-02</td>\n",
              "      <td>2.144476e-02</td>\n",
              "      <td>5.025938e-02</td>\n",
              "      <td>4.664722e-02</td>\n",
              "      <td>0.035429</td>\n",
              "    </tr>\n",
              "    <tr>\n",
              "      <th>3</th>\n",
              "      <td>9.476408e-06</td>\n",
              "      <td>5.605708e-03</td>\n",
              "      <td>2.161767e-04</td>\n",
              "      <td>9.931203e-01</td>\n",
              "      <td>6.183771e-06</td>\n",
              "      <td>6.185657e-04</td>\n",
              "      <td>1.766687e-05</td>\n",
              "      <td>1.400354e-04</td>\n",
              "      <td>1.706434e-04</td>\n",
              "      <td>0.000195</td>\n",
              "    </tr>\n",
              "    <tr>\n",
              "      <th>4</th>\n",
              "      <td>1.851252e-02</td>\n",
              "      <td>5.036877e-01</td>\n",
              "      <td>5.067746e-02</td>\n",
              "      <td>4.920112e-02</td>\n",
              "      <td>5.037878e-01</td>\n",
              "      <td>4.590621e-02</td>\n",
              "      <td>4.162702e-02</td>\n",
              "      <td>3.952324e-02</td>\n",
              "      <td>7.256514e-02</td>\n",
              "      <td>0.054861</td>\n",
              "    </tr>\n",
              "    <tr>\n",
              "      <th>...</th>\n",
              "      <td>...</td>\n",
              "      <td>...</td>\n",
              "      <td>...</td>\n",
              "      <td>...</td>\n",
              "      <td>...</td>\n",
              "      <td>...</td>\n",
              "      <td>...</td>\n",
              "      <td>...</td>\n",
              "      <td>...</td>\n",
              "      <td>...</td>\n",
              "    </tr>\n",
              "    <tr>\n",
              "      <th>9995</th>\n",
              "      <td>4.057567e-02</td>\n",
              "      <td>8.899996e-02</td>\n",
              "      <td>6.567053e-02</td>\n",
              "      <td>1.405336e-01</td>\n",
              "      <td>4.305586e-02</td>\n",
              "      <td>1.902527e-01</td>\n",
              "      <td>3.725423e-02</td>\n",
              "      <td>1.901527e-01</td>\n",
              "      <td>1.486572e-01</td>\n",
              "      <td>0.150044</td>\n",
              "    </tr>\n",
              "    <tr>\n",
              "      <th>9996</th>\n",
              "      <td>7.409497e-02</td>\n",
              "      <td>7.783128e-02</td>\n",
              "      <td>1.671375e-01</td>\n",
              "      <td>4.412063e-02</td>\n",
              "      <td>1.048051e-01</td>\n",
              "      <td>9.674668e-02</td>\n",
              "      <td>1.672376e-01</td>\n",
              "      <td>8.244628e-02</td>\n",
              "      <td>1.355636e-01</td>\n",
              "      <td>0.111163</td>\n",
              "    </tr>\n",
              "    <tr>\n",
              "      <th>9997</th>\n",
              "      <td>1.450683e-02</td>\n",
              "      <td>4.183247e-02</td>\n",
              "      <td>3.295745e-02</td>\n",
              "      <td>5.268599e-02</td>\n",
              "      <td>3.485709e-02</td>\n",
              "      <td>2.489455e-02</td>\n",
              "      <td>6.965457e-03</td>\n",
              "      <td>4.642922e-01</td>\n",
              "      <td>5.191123e-02</td>\n",
              "      <td>0.464192</td>\n",
              "    </tr>\n",
              "    <tr>\n",
              "      <th>9998</th>\n",
              "      <td>2.579621e-02</td>\n",
              "      <td>4.582928e-02</td>\n",
              "      <td>4.683148e-02</td>\n",
              "      <td>5.207474e-02</td>\n",
              "      <td>4.736396e-02</td>\n",
              "      <td>3.181322e-02</td>\n",
              "      <td>1.227444e-02</td>\n",
              "      <td>1.696627e-01</td>\n",
              "      <td>4.627000e-01</td>\n",
              "      <td>0.462600</td>\n",
              "    </tr>\n",
              "    <tr>\n",
              "      <th>9999</th>\n",
              "      <td>9.082028e-09</td>\n",
              "      <td>1.041064e-09</td>\n",
              "      <td>1.113108e-08</td>\n",
              "      <td>7.826155e-08</td>\n",
              "      <td>7.696348e-08</td>\n",
              "      <td>7.222754e-09</td>\n",
              "      <td>3.859530e-11</td>\n",
              "      <td>3.133081e-07</td>\n",
              "      <td>1.375493e-07</td>\n",
              "      <td>0.999999</td>\n",
              "    </tr>\n",
              "  </tbody>\n",
              "</table>\n",
              "<p>10000 rows × 10 columns</p>\n",
              "</div>\n",
              "      <button class=\"colab-df-convert\" onclick=\"convertToInteractive('df-27ba0188-efcf-4978-9b29-cff75a40f324')\"\n",
              "              title=\"Convert this dataframe to an interactive table.\"\n",
              "              style=\"display:none;\">\n",
              "        \n",
              "  <svg xmlns=\"http://www.w3.org/2000/svg\" height=\"24px\"viewBox=\"0 0 24 24\"\n",
              "       width=\"24px\">\n",
              "    <path d=\"M0 0h24v24H0V0z\" fill=\"none\"/>\n",
              "    <path d=\"M18.56 5.44l.94 2.06.94-2.06 2.06-.94-2.06-.94-.94-2.06-.94 2.06-2.06.94zm-11 1L8.5 8.5l.94-2.06 2.06-.94-2.06-.94L8.5 2.5l-.94 2.06-2.06.94zm10 10l.94 2.06.94-2.06 2.06-.94-2.06-.94-.94-2.06-.94 2.06-2.06.94z\"/><path d=\"M17.41 7.96l-1.37-1.37c-.4-.4-.92-.59-1.43-.59-.52 0-1.04.2-1.43.59L10.3 9.45l-7.72 7.72c-.78.78-.78 2.05 0 2.83L4 21.41c.39.39.9.59 1.41.59.51 0 1.02-.2 1.41-.59l7.78-7.78 2.81-2.81c.8-.78.8-2.07 0-2.86zM5.41 20L4 18.59l7.72-7.72 1.47 1.35L5.41 20z\"/>\n",
              "  </svg>\n",
              "      </button>\n",
              "      \n",
              "  <style>\n",
              "    .colab-df-container {\n",
              "      display:flex;\n",
              "      flex-wrap:wrap;\n",
              "      gap: 12px;\n",
              "    }\n",
              "\n",
              "    .colab-df-convert {\n",
              "      background-color: #E8F0FE;\n",
              "      border: none;\n",
              "      border-radius: 50%;\n",
              "      cursor: pointer;\n",
              "      display: none;\n",
              "      fill: #1967D2;\n",
              "      height: 32px;\n",
              "      padding: 0 0 0 0;\n",
              "      width: 32px;\n",
              "    }\n",
              "\n",
              "    .colab-df-convert:hover {\n",
              "      background-color: #E2EBFA;\n",
              "      box-shadow: 0px 1px 2px rgba(60, 64, 67, 0.3), 0px 1px 3px 1px rgba(60, 64, 67, 0.15);\n",
              "      fill: #174EA6;\n",
              "    }\n",
              "\n",
              "    [theme=dark] .colab-df-convert {\n",
              "      background-color: #3B4455;\n",
              "      fill: #D2E3FC;\n",
              "    }\n",
              "\n",
              "    [theme=dark] .colab-df-convert:hover {\n",
              "      background-color: #434B5C;\n",
              "      box-shadow: 0px 1px 3px 1px rgba(0, 0, 0, 0.15);\n",
              "      filter: drop-shadow(0px 1px 2px rgba(0, 0, 0, 0.3));\n",
              "      fill: #FFFFFF;\n",
              "    }\n",
              "  </style>\n",
              "\n",
              "      <script>\n",
              "        const buttonEl =\n",
              "          document.querySelector('#df-27ba0188-efcf-4978-9b29-cff75a40f324 button.colab-df-convert');\n",
              "        buttonEl.style.display =\n",
              "          google.colab.kernel.accessAllowed ? 'block' : 'none';\n",
              "\n",
              "        async function convertToInteractive(key) {\n",
              "          const element = document.querySelector('#df-27ba0188-efcf-4978-9b29-cff75a40f324');\n",
              "          const dataTable =\n",
              "            await google.colab.kernel.invokeFunction('convertToInteractive',\n",
              "                                                     [key], {});\n",
              "          if (!dataTable) return;\n",
              "\n",
              "          const docLinkHtml = 'Like what you see? Visit the ' +\n",
              "            '<a target=\"_blank\" href=https://colab.research.google.com/notebooks/data_table.ipynb>data table notebook</a>'\n",
              "            + ' to learn more about interactive tables.';\n",
              "          element.innerHTML = '';\n",
              "          dataTable['output_type'] = 'display_data';\n",
              "          await google.colab.output.renderOutput(dataTable, element);\n",
              "          const docLink = document.createElement('div');\n",
              "          docLink.innerHTML = docLinkHtml;\n",
              "          element.appendChild(docLink);\n",
              "        }\n",
              "      </script>\n",
              "    </div>\n",
              "  </div>\n",
              "  "
            ]
          },
          "metadata": {},
          "execution_count": 73
        }
      ]
    },
    {
      "cell_type": "code",
      "source": [
        "# format the shape of matrix to (1000,10)\n",
        "prediction_vectors = np.array(prediction_vectors)\n",
        "print(\"Current shape: \" ,prediction_vectors.shape)\n",
        "\n",
        "prediction_matrix = prediction_vectors[:,0,:]\n",
        "print(\"New shape: \", prediction_matrix.shape)"
      ],
      "metadata": {
        "colab": {
          "base_uri": "https://localhost:8080/"
        },
        "id": "KTOBjc8wPo3m",
        "outputId": "00c62c49-3f7f-4990-edcb-7f31d42dbd93"
      },
      "execution_count": null,
      "outputs": [
        {
          "output_type": "stream",
          "name": "stdout",
          "text": [
            "Current shape:  (10000, 1, 10)\n",
            "New shape:  (10000, 10)\n"
          ]
        }
      ]
    },
    {
      "cell_type": "code",
      "source": [
        "# save to file \n",
        "np.savetxt(\"10000_vectors.txt\",prediction_matrix)"
      ],
      "metadata": {
        "id": "fALFLENmuU6P"
      },
      "execution_count": null,
      "outputs": []
    },
    {
      "cell_type": "markdown",
      "source": [
        "## Phase 1: Distilled Network Training.\n",
        "\n",
        "---\n",
        "\n"
      ],
      "metadata": {
        "id": "x_HMuGAA20Yc"
      }
    },
    {
      "cell_type": "code",
      "source": [
        "# This function creates the on-hot-vector based on the class count and sets the index to 1 as per the given input.\n",
        "def createOneHotVector(classCount, setIndex):\n",
        "  vector = np.array(np.zeros(classCount))\n",
        "\n",
        "  vector[setIndex] = 1\n",
        "\n",
        "  return vector"
      ],
      "metadata": {
        "id": "Li5TuARU4Xp9"
      },
      "execution_count": null,
      "outputs": []
    },
    {
      "cell_type": "code",
      "source": [
        "def splitFilePathToGetActualClass(s):\n",
        "\n",
        "  t = s.split(\"_\")\n",
        "\n",
        "  return int(t[0])"
      ],
      "metadata": {
        "id": "OO0lWZbC5z9A"
      },
      "execution_count": null,
      "outputs": []
    },
    {
      "cell_type": "code",
      "source": [
        "# Creat the list of images from the images dir.\n",
        "image_dist_list = []\n",
        "one_hot_vectors = []\n",
        "dir_path = \"/content/drive/MyDrive/Thesis/1000_advs\"\n",
        "images = os.listdir(dir_path)\n",
        "\n",
        "''' storing the images in x_adv '''\n",
        "for i in tqdm(range(len(images))):\n",
        "    img = cv2.imread(dir_path+\"/\"+images[i])\n",
        "    \n",
        "    if(img is not None):\n",
        "      img = cv2.cvtColor(img, cv2.COLOR_BGR2GRAY)\n",
        "      img = img/255. - 0.5                               # normalization\n",
        "      image_dist_list.append(img)\n",
        "\n",
        "      ohv = createOneHotVector(10, splitFilePathToGetActualClass(images[i]))\n",
        "\n",
        "      print(ohv,\" : \", splitFilePathToGetActualClass(images[i]))\n",
        "\n",
        "      one_hot_vectors.append(ohv)\n",
        "\n",
        "#Shape the images to an array.\n",
        "image_batch_array = np.array(image_dist_list)\n",
        "print(\"X Shape (Input images):\", image_batch_array.shape)\n",
        "print(\"Y Shape (Actual class):\", one_hot_vectors)"
      ],
      "metadata": {
        "id": "xlQUnd5i2wCC"
      },
      "execution_count": null,
      "outputs": []
    },
    {
      "cell_type": "code",
      "source": [
        "# format the shape of matrix to (1000,10)\n",
        "onehot_matrix = np.array(one_hot_vectors)\n",
        "print(\"Current shape: \" ,onehot_matrix.shape)\n",
        "\n",
        "# save to file \n",
        "np.savetxt(\"/content/drive/MyDrive/Thesis/9996_vectors.txt\",onehot_matrix)\n",
        "print(\"Saved the matrix successfully\")"
      ],
      "metadata": {
        "colab": {
          "base_uri": "https://localhost:8080/"
        },
        "id": "LGmTRJIS8wLn",
        "outputId": "8c30905c-1d48-410d-e740-bdb9089406d3"
      },
      "execution_count": null,
      "outputs": [
        {
          "output_type": "stream",
          "name": "stdout",
          "text": [
            "Current shape:  (9996, 10)\n",
            "Saved the matrix successfully\n"
          ]
        }
      ]
    },
    {
      "cell_type": "code",
      "source": [
        "#Load the matrix from the text file.\n",
        "path_to_txt = \"/content/drive/MyDrive/Thesis/9996_vectors.txt\"\n",
        "\n",
        "probability_vector_matrix = np.loadtxt(path_to_txt)\n",
        "\n",
        "print(\"Y Shape (Labels):\",probability_vector_matrix.shape)"
      ],
      "metadata": {
        "colab": {
          "base_uri": "https://localhost:8080/"
        },
        "id": "wjc6fjzI8y5U",
        "outputId": "11c2e3a2-6672-43c3-fb02-e030e9a709ef"
      },
      "execution_count": null,
      "outputs": [
        {
          "output_type": "stream",
          "name": "stdout",
          "text": [
            "Y Shape (Labels): (9996, 10)\n"
          ]
        }
      ]
    },
    {
      "cell_type": "code",
      "source": [
        "#Load the model for distillation.\n",
        "import copy\n",
        "\n",
        "distilled_model = tf.keras.models.load_model('/content/drive/MyDrive/Thesis/mnist_cnw.model')"
      ],
      "metadata": {
        "id": "4DkGbCRdvsWz"
      },
      "execution_count": null,
      "outputs": []
    },
    {
      "cell_type": "code",
      "source": [
        "#Freezing: Except for all the dense layers, set the trainable to False.\n",
        "for layer in distilled_model.layers:\n",
        "  if(\"dense\" not in layer.name):\n",
        "    print(layer.name)\n",
        "    layer.trainable = False"
      ],
      "metadata": {
        "colab": {
          "base_uri": "https://localhost:8080/"
        },
        "id": "8UnxHX4XGFMk",
        "outputId": "be01b04b-4260-4f1a-e0d6-61706c131279"
      },
      "execution_count": null,
      "outputs": [
        {
          "output_type": "stream",
          "name": "stdout",
          "text": [
            "input_3\n",
            "conv2d_8\n",
            "conv2d_9\n",
            "max_pooling2d_4\n",
            "conv2d_10\n",
            "conv2d_11\n",
            "max_pooling2d_5\n",
            "flatten_2\n",
            "dropout_2\n"
          ]
        }
      ]
    },
    {
      "cell_type": "code",
      "source": [
        "#Re-train the model with 10000 images and probability vectors.\n",
        "distilled_model.fit(x = image_batch_array, y = probability_vector_matrix, epochs=50)"
      ],
      "metadata": {
        "colab": {
          "base_uri": "https://localhost:8080/"
        },
        "id": "NnBplSdP45BW",
        "outputId": "821761ac-4d09-4c7b-d750-bd014dd83ed1"
      },
      "execution_count": null,
      "outputs": [
        {
          "output_type": "stream",
          "name": "stdout",
          "text": [
            "Epoch 1/50\n",
            "313/313 [==============================] - 2s 6ms/step - loss: 1.7179e-06 - accuracy: 1.0000\n",
            "Epoch 2/50\n",
            "313/313 [==============================] - 2s 6ms/step - loss: 1.7680e-06 - accuracy: 1.0000\n",
            "Epoch 3/50\n",
            "313/313 [==============================] - 2s 6ms/step - loss: 0.0667 - accuracy: 0.9906\n",
            "Epoch 4/50\n",
            "313/313 [==============================] - 2s 6ms/step - loss: 0.0017 - accuracy: 0.9995\n",
            "Epoch 5/50\n",
            "313/313 [==============================] - 2s 6ms/step - loss: 0.0019 - accuracy: 0.9993\n",
            "Epoch 6/50\n",
            "313/313 [==============================] - 2s 6ms/step - loss: 9.8327e-04 - accuracy: 0.9997\n",
            "Epoch 7/50\n",
            "313/313 [==============================] - 2s 6ms/step - loss: 4.9325e-05 - accuracy: 1.0000\n",
            "Epoch 8/50\n",
            "313/313 [==============================] - 2s 6ms/step - loss: 2.5657e-05 - accuracy: 1.0000\n",
            "Epoch 9/50\n",
            "313/313 [==============================] - 2s 6ms/step - loss: 1.6310e-05 - accuracy: 1.0000\n",
            "Epoch 10/50\n",
            "313/313 [==============================] - 2s 6ms/step - loss: 4.6375e-05 - accuracy: 1.0000\n",
            "Epoch 11/50\n",
            "313/313 [==============================] - 2s 6ms/step - loss: 0.0064 - accuracy: 0.9985\n",
            "Epoch 12/50\n",
            "313/313 [==============================] - 2s 6ms/step - loss: 0.0417 - accuracy: 0.9936\n",
            "Epoch 13/50\n",
            "313/313 [==============================] - 2s 6ms/step - loss: 0.0018 - accuracy: 0.9997\n",
            "Epoch 14/50\n",
            "313/313 [==============================] - 2s 6ms/step - loss: 5.2305e-04 - accuracy: 0.9998\n",
            "Epoch 15/50\n",
            "313/313 [==============================] - 2s 6ms/step - loss: 6.5038e-06 - accuracy: 1.0000\n",
            "Epoch 16/50\n",
            "313/313 [==============================] - 2s 6ms/step - loss: 2.0921e-05 - accuracy: 1.0000\n",
            "Epoch 17/50\n",
            "313/313 [==============================] - 2s 6ms/step - loss: 1.0008e-05 - accuracy: 1.0000\n",
            "Epoch 18/50\n",
            "313/313 [==============================] - 2s 6ms/step - loss: 1.7319e-05 - accuracy: 1.0000\n",
            "Epoch 19/50\n",
            "313/313 [==============================] - 2s 6ms/step - loss: 5.6219e-06 - accuracy: 1.0000\n",
            "Epoch 20/50\n",
            "313/313 [==============================] - 2s 6ms/step - loss: 8.4914e-06 - accuracy: 1.0000\n",
            "Epoch 21/50\n",
            "313/313 [==============================] - 2s 6ms/step - loss: 0.0167 - accuracy: 0.9976\n",
            "Epoch 22/50\n",
            "313/313 [==============================] - 2s 6ms/step - loss: 0.0339 - accuracy: 0.9960\n",
            "Epoch 23/50\n",
            "313/313 [==============================] - 2s 6ms/step - loss: 0.0024 - accuracy: 0.9992\n",
            "Epoch 24/50\n",
            "313/313 [==============================] - 2s 6ms/step - loss: 0.0027 - accuracy: 0.9997\n",
            "Epoch 25/50\n",
            "313/313 [==============================] - 2s 6ms/step - loss: 4.4375e-05 - accuracy: 1.0000\n",
            "Epoch 26/50\n",
            "313/313 [==============================] - 2s 6ms/step - loss: 1.1770e-05 - accuracy: 1.0000\n",
            "Epoch 27/50\n",
            "313/313 [==============================] - 2s 6ms/step - loss: 4.1339e-06 - accuracy: 1.0000\n",
            "Epoch 28/50\n",
            "313/313 [==============================] - 2s 6ms/step - loss: 2.3841e-05 - accuracy: 1.0000\n",
            "Epoch 29/50\n",
            "313/313 [==============================] - 2s 6ms/step - loss: 5.7622e-04 - accuracy: 0.9997\n",
            "Epoch 30/50\n",
            "313/313 [==============================] - 2s 6ms/step - loss: 0.0237 - accuracy: 0.9972\n",
            "Epoch 31/50\n",
            "313/313 [==============================] - 2s 6ms/step - loss: 0.0116 - accuracy: 0.9982\n",
            "Epoch 32/50\n",
            "313/313 [==============================] - 2s 6ms/step - loss: 0.0042 - accuracy: 0.9996\n",
            "Epoch 33/50\n",
            "313/313 [==============================] - 2s 6ms/step - loss: 1.9529e-06 - accuracy: 1.0000\n",
            "Epoch 34/50\n",
            "313/313 [==============================] - 2s 6ms/step - loss: 1.9213e-06 - accuracy: 1.0000\n",
            "Epoch 35/50\n",
            "313/313 [==============================] - 2s 6ms/step - loss: 1.3672e-06 - accuracy: 1.0000\n",
            "Epoch 36/50\n",
            "313/313 [==============================] - 2s 6ms/step - loss: 4.8881e-06 - accuracy: 1.0000\n",
            "Epoch 37/50\n",
            "313/313 [==============================] - 2s 6ms/step - loss: 2.4821e-06 - accuracy: 1.0000\n",
            "Epoch 38/50\n",
            "313/313 [==============================] - 2s 6ms/step - loss: 0.0204 - accuracy: 0.9977\n",
            "Epoch 39/50\n",
            "313/313 [==============================] - 2s 6ms/step - loss: 0.0014 - accuracy: 0.9998\n",
            "Epoch 40/50\n",
            "313/313 [==============================] - 2s 6ms/step - loss: 0.0019 - accuracy: 0.9994\n",
            "Epoch 41/50\n",
            "313/313 [==============================] - 2s 6ms/step - loss: 1.2343e-05 - accuracy: 1.0000\n",
            "Epoch 42/50\n",
            "313/313 [==============================] - 2s 6ms/step - loss: 0.0036 - accuracy: 0.9994\n",
            "Epoch 43/50\n",
            "313/313 [==============================] - 2s 6ms/step - loss: 0.0223 - accuracy: 0.9981\n",
            "Epoch 44/50\n",
            "313/313 [==============================] - 2s 6ms/step - loss: 0.0189 - accuracy: 0.9977\n",
            "Epoch 45/50\n",
            "313/313 [==============================] - 2s 6ms/step - loss: 0.0015 - accuracy: 0.9997\n",
            "Epoch 46/50\n",
            "313/313 [==============================] - 2s 6ms/step - loss: 0.0067 - accuracy: 0.9993\n",
            "Epoch 47/50\n",
            "313/313 [==============================] - 2s 6ms/step - loss: 5.7698e-05 - accuracy: 1.0000\n",
            "Epoch 48/50\n",
            "313/313 [==============================] - 2s 6ms/step - loss: 0.0017 - accuracy: 0.9998\n",
            "Epoch 49/50\n",
            "313/313 [==============================] - 2s 6ms/step - loss: 1.8601e-04 - accuracy: 0.9999\n",
            "Epoch 50/50\n",
            "313/313 [==============================] - 2s 6ms/step - loss: 1.6704e-07 - accuracy: 1.0000\n"
          ]
        },
        {
          "output_type": "execute_result",
          "data": {
            "text/plain": [
              "<keras.callbacks.History at 0x7f68125cedf0>"
            ]
          },
          "metadata": {},
          "execution_count": 65
        }
      ]
    },
    {
      "cell_type": "code",
      "source": [
        "#Save the model.\n",
        "pickle.dump(distilled_model, open('/content/drive/MyDrive/Thesis/distilled_model_with_one_hot_vector','wb'))"
      ],
      "metadata": {
        "colab": {
          "base_uri": "https://localhost:8080/"
        },
        "id": "Z00O4bI8-EJU",
        "outputId": "0b4e24cd-3482-4153-b2dc-242e6c82f946"
      },
      "execution_count": null,
      "outputs": [
        {
          "output_type": "stream",
          "name": "stderr",
          "text": [
            "WARNING:absl:Found untraced functions such as _jit_compiled_convolution_op, _jit_compiled_convolution_op, _jit_compiled_convolution_op, _jit_compiled_convolution_op while saving (showing 4 of 4). These functions will not be directly callable after loading.\n"
          ]
        }
      ]
    },
    {
      "cell_type": "code",
      "source": [
        "distilled_model.summary()"
      ],
      "metadata": {
        "colab": {
          "base_uri": "https://localhost:8080/"
        },
        "id": "fnanhaIUCyq0",
        "outputId": "3cb54149-52b3-4c31-8afe-b408005313a7"
      },
      "execution_count": null,
      "outputs": [
        {
          "output_type": "stream",
          "name": "stdout",
          "text": [
            "Model: \"model_2\"\n",
            "_________________________________________________________________\n",
            " Layer (type)                Output Shape              Param #   \n",
            "=================================================================\n",
            " input_3 (InputLayer)        [(None, 28, 28, 1)]       0         \n",
            "                                                                 \n",
            " conv2d_8 (Conv2D)           (None, 26, 26, 32)        320       \n",
            "                                                                 \n",
            " conv2d_9 (Conv2D)           (None, 24, 24, 32)        9248      \n",
            "                                                                 \n",
            " max_pooling2d_4 (MaxPooling  (None, 23, 23, 32)       0         \n",
            " 2D)                                                             \n",
            "                                                                 \n",
            " conv2d_10 (Conv2D)          (None, 21, 21, 64)        18496     \n",
            "                                                                 \n",
            " conv2d_11 (Conv2D)          (None, 19, 19, 64)        36928     \n",
            "                                                                 \n",
            " max_pooling2d_5 (MaxPooling  (None, 18, 18, 64)       0         \n",
            " 2D)                                                             \n",
            "                                                                 \n",
            " flatten_2 (Flatten)         (None, 20736)             0         \n",
            "                                                                 \n",
            " dense_6 (Dense)             (None, 200)               4147400   \n",
            "                                                                 \n",
            " dense_7 (Dense)             (None, 200)               40200     \n",
            "                                                                 \n",
            " dropout_2 (Dropout)         (None, 200)               0         \n",
            "                                                                 \n",
            " dense_8 (Dense)             (None, 10)                2010      \n",
            "                                                                 \n",
            "=================================================================\n",
            "Total params: 4,254,602\n",
            "Trainable params: 4,189,610\n",
            "Non-trainable params: 64,992\n",
            "_________________________________________________________________\n"
          ]
        }
      ]
    },
    {
      "cell_type": "code",
      "source": [],
      "metadata": {
        "id": "Zo7Xw9mOJEv8"
      },
      "execution_count": null,
      "outputs": []
    }
  ],
  "metadata": {
    "accelerator": "GPU",
    "colab": {
      "provenance": []
    },
    "kernelspec": {
      "display_name": "Python 3",
      "name": "python3"
    },
    "language_info": {
      "name": "python"
    }
  },
  "nbformat": 4,
  "nbformat_minor": 0
}